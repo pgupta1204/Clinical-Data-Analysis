{
 "cells": [
  {
   "cell_type": "markdown",
   "metadata": {},
   "source": [
    "## Import packages"
   ]
  },
  {
   "cell_type": "code",
   "execution_count": 13,
   "metadata": {
    "collapsed": true
   },
   "outputs": [],
   "source": [
    "import pandas as pd\n",
    "import numpy as np\n",
    "import datetime as dt\n",
    "import matplotlib.pyplot as plt\n",
    "%matplotlib notebook"
   ]
  },
  {
   "cell_type": "markdown",
   "metadata": {},
   "source": [
    "## Read Data from csv files"
   ]
  },
  {
   "cell_type": "code",
   "execution_count": 14,
   "metadata": {
    "collapsed": true
   },
   "outputs": [],
   "source": [
    "bill_amt = pd.read_csv('bill_amount.csv')\n",
    "bill_id = pd.read_csv('bill_id.csv')\n",
    "clinical_data = pd.read_csv('clinical_data.csv')\n",
    "clinical_data.rename(columns = {'id':'patient_id'},inplace=True)\n",
    "clinical_data.replace(['Yes','No'],[1,0],inplace=True)\n",
    "\n",
    "demo_data = pd.read_csv('demographics.csv')\n",
    "demo_data.replace(['f','m'],['Female','Male'],inplace=True)\n",
    "demo_data.replace(['India','chinese'],['Indian','Chinese'],inplace=True)"
   ]
  },
  {
   "cell_type": "markdown",
   "metadata": {},
   "source": [
    "## Join Dataframes "
   ]
  },
  {
   "cell_type": "code",
   "execution_count": 15,
   "metadata": {
    "collapsed": true
   },
   "outputs": [],
   "source": [
    "df = pd.merge(bill_amt, bill_id, how = 'right', left_on = 'bill_id', right_on = 'bill_id')\n",
    "df = df.groupby(['patient_id','date_of_admission']).agg({'amount':np.sum}).reset_index()\n",
    "df1 = pd.merge(clinical_data, demo_data, how = 'left', left_on = ['patient_id'], right_on = ['patient_id'])\n",
    "df2 = pd.merge(df,df1, how = 'right', left_on = ['patient_id', 'date_of_admission'], right_on = ['patient_id','date_of_admission'])"
   ]
  },
  {
   "cell_type": "markdown",
   "metadata": {},
   "source": [
    "## Convert date columns to DateTime format and handle missing data values"
   ]
  },
  {
   "cell_type": "code",
   "execution_count": 16,
   "metadata": {
    "collapsed": false
   },
   "outputs": [],
   "source": [
    "df2['date_of_discharge'] = pd.to_datetime(df2['date_of_discharge'])\n",
    "df2['date_of_admission'] = pd.to_datetime(df2['date_of_admission'])\n",
    "df2['date_of_birth'] = pd.to_datetime(df2['date_of_birth'])\n",
    "df2['days_in_hospital'] = pd.to_datetime(df2['date_of_discharge']).sub(pd.to_datetime(df2['date_of_admission']),axis = 0).dt.days\n",
    "df2.fillna(0, inplace=True)"
   ]
  },
  {
   "cell_type": "markdown",
   "metadata": {},
   "source": [
    "## Create Age column from DOB data and create age groups "
   ]
  },
  {
   "cell_type": "code",
   "execution_count": 17,
   "metadata": {
    "collapsed": false
   },
   "outputs": [],
   "source": [
    "#age_group = ['Group1','Group2','Group3','Group4','Group5']\n",
    "def age_group_fun(dl):\n",
    "    if dl > 64: return 'age_group5'\n",
    "    elif 54 < dl <= 64: return 'age_group4'\n",
    "    elif 44 < dl <= 54: return 'age_group3'\n",
    "    elif 34 < dl <= 44: return 'age_group2'\n",
    "    elif 24 < dl <= 34: return 'age_group1'\n",
    "    else: return 'None'\n",
    "df2['age'] = (pd.to_datetime('today').year)-(df2['date_of_birth'].dt.year)\n",
    "age_group = df2['age'].map(age_group_fun)\n"
   ]
  },
  {
   "cell_type": "markdown",
   "metadata": {},
   "source": [
    "## Create Categorical Variables"
   ]
  },
  {
   "cell_type": "code",
   "execution_count": 18,
   "metadata": {
    "collapsed": false
   },
   "outputs": [],
   "source": [
    "age_group_category = pd.get_dummies(age_group)\n",
    "gender = pd.get_dummies(df2['gender'])\n",
    "resident_status= pd.get_dummies(df2['resident_status'])\n",
    "race = pd.get_dummies(df2['race'])\n",
    "df2 = pd.concat([df2,age_group_category,gender,resident_status,race],axis = 1)\n"
   ]
  },
  {
   "cell_type": "markdown",
   "metadata": {},
   "source": [
    "## Define bill amount as Target variable and define feature variables."
   ]
  },
  {
   "cell_type": "code",
   "execution_count": 19,
   "metadata": {
    "collapsed": false
   },
   "outputs": [],
   "source": [
    "Y_train = np.array(df2['amount'])\n",
    "X_train = (df2.drop(['date_of_birth','age','date_of_admission',\n",
    "           'date_of_discharge','patient_id','amount',\n",
    "           'gender','race','resident_status'],axis = 1))\n",
    "all_feature_names = X_train.columns\n",
    "X_train = np.array(X_train)"
   ]
  },
  {
   "cell_type": "markdown",
   "metadata": {},
   "source": [
    "## Define Random Forest Regression model, Train model and evaluate the important features"
   ]
  },
  {
   "cell_type": "code",
   "execution_count": 24,
   "metadata": {
    "collapsed": false
   },
   "outputs": [
    {
     "name": "stdout",
     "output_type": "stream",
     "text": [
      "R^2: %.3f (%.3f)\n"
     ]
    },
    {
     "data": {
      "text/plain": [
       "(None, (0.88717716484791498, 0.022712865620763231))"
      ]
     },
     "execution_count": 24,
     "metadata": {},
     "output_type": "execute_result"
    }
   ],
   "source": [
    "#import model\n",
    "from sklearn.ensemble import RandomForestRegressor\n",
    "from sklearn import model_selection\n",
    "#instantiate the regressor and k-fold \n",
    "kfold = model_selection.KFold(n_splits=10, random_state=0)\n",
    "model = RandomForestRegressor(n_estimators = 1000)\n",
    "scoring = 'r2'\n",
    "#Train the model and evaluate R2 evaluation score\n",
    "results = model_selection.cross_val_score(model, X_train, Y_train, cv=kfold, scoring=scoring)\n",
    "print(\"R^2: {:.3f}\".format(results.mean()))"
   ]
  },
  {
   "cell_type": "code",
   "execution_count": 9,
   "metadata": {
    "collapsed": false
   },
   "outputs": [],
   "source": [
    "#Important feature variables sorted as per descending order of the importance\n",
    "features = rf.feature_importances_\n",
    "imp_features_index = sorted(range(len(features)), key=lambda k: features[k])\n",
    "print(all_feature_names[imp_features_index])"
   ]
  }
 ],
 "metadata": {
  "anaconda-cloud": {},
  "kernelspec": {
   "display_name": "Python [default]",
   "language": "python",
   "name": "python3"
  },
  "language_info": {
   "codemirror_mode": {
    "name": "ipython",
    "version": 3
   },
   "file_extension": ".py",
   "mimetype": "text/x-python",
   "name": "python",
   "nbconvert_exporter": "python",
   "pygments_lexer": "ipython3",
   "version": "3.5.4"
  }
 },
 "nbformat": 4,
 "nbformat_minor": 1
}
