{
 "cells": [
  {
   "cell_type": "markdown",
   "metadata": {},
   "source": [
    "## Import packages"
   ]
  },
  {
   "cell_type": "code",
   "execution_count": 1,
   "metadata": {
    "collapsed": true
   },
   "outputs": [],
   "source": [
    "import pandas as pd\n",
    "import numpy as np\n",
    "import datetime as dt\n",
    "import matplotlib.pyplot as plt\n",
    "%matplotlib notebook"
   ]
  },
  {
   "cell_type": "markdown",
   "metadata": {},
   "source": [
    "## Read Data from csv files"
   ]
  },
  {
   "cell_type": "code",
   "execution_count": 2,
   "metadata": {
    "collapsed": true
   },
   "outputs": [],
   "source": [
    "bill_amt = pd.read_csv('bill_amount.csv')\n",
    "bill_id = pd.read_csv('bill_id.csv')\n",
    "clinical_data = pd.read_csv('clinical_data.csv')\n",
    "clinical_data.rename(columns = {'id':'patient_id'},inplace=True)\n",
    "clinical_data.replace(['Yes','No'],[1,0],inplace=True)\n",
    "\n",
    "demo_data = pd.read_csv('demographics.csv')\n",
    "demo_data.replace(['f','m'],['Female','Male'],inplace=True)\n",
    "demo_data.replace(['India','chinese','Singapore citizen'],['Indian','Chinese','Singaporean'],inplace=True)"
   ]
  },
  {
   "cell_type": "markdown",
   "metadata": {},
   "source": [
    "## Join Dataframes "
   ]
  },
  {
   "cell_type": "code",
   "execution_count": 3,
   "metadata": {
    "collapsed": true
   },
   "outputs": [],
   "source": [
    "df = pd.merge(bill_amt, bill_id, how = 'right', left_on = 'bill_id', right_on = 'bill_id')\n",
    "df = df.groupby(['patient_id','date_of_admission']).agg({'amount':np.sum}).reset_index()\n",
    "df1 = pd.merge(clinical_data, demo_data, how = 'left', left_on = ['patient_id'], right_on = ['patient_id'])\n",
    "df2 = pd.merge(df,df1, how = 'right', left_on = ['patient_id', 'date_of_admission'], right_on = ['patient_id','date_of_admission'])"
   ]
  },
  {
   "cell_type": "markdown",
   "metadata": {},
   "source": [
    "## Convert date columns to DateTime format and handle missing data values"
   ]
  },
  {
   "cell_type": "code",
   "execution_count": 4,
   "metadata": {
    "collapsed": false
   },
   "outputs": [],
   "source": [
    "df2['date_of_discharge'] = pd.to_datetime(df2['date_of_discharge'])\n",
    "df2['date_of_admission'] = pd.to_datetime(df2['date_of_admission'])\n",
    "df2['date_of_birth'] = pd.to_datetime(df2['date_of_birth'])\n",
    "df2['days_in_hospital'] = pd.to_datetime(df2['date_of_discharge']).sub(pd.to_datetime(df2['date_of_admission']),axis = 0).dt.days\n",
    "df2.fillna(0, inplace=True)"
   ]
  },
  {
   "cell_type": "markdown",
   "metadata": {},
   "source": [
    "## Create Age column from DOB data and create age groups "
   ]
  },
  {
   "cell_type": "code",
   "execution_count": 5,
   "metadata": {
    "collapsed": false
   },
   "outputs": [],
   "source": [
    "#age_group = ['Group1','Group2','Group3','Group4','Group5']\n",
    "def age_group_fun(dl):\n",
    "    if dl > 64: return 'age_group5'\n",
    "    elif 54 < dl <= 64: return 'age_group4'\n",
    "    elif 44 < dl <= 54: return 'age_group3'\n",
    "    elif 34 < dl <= 44: return 'age_group2'\n",
    "    elif 24 < dl <= 34: return 'age_group1'\n",
    "    else: return 'None'\n",
    "df2['age'] = (pd.to_datetime('today').year)-(df2['date_of_birth'].dt.year)\n",
    "age_group = df2['age'].map(age_group_fun)\n"
   ]
  },
  {
   "cell_type": "markdown",
   "metadata": {},
   "source": [
    "## Create Categorical Variables"
   ]
  },
  {
   "cell_type": "code",
   "execution_count": 6,
   "metadata": {
    "collapsed": false
   },
   "outputs": [],
   "source": [
    "age_group_category = pd.get_dummies(age_group)\n",
    "gender = pd.get_dummies(df2['gender'])\n",
    "resident_status= pd.get_dummies(df2['resident_status'])\n",
    "race = pd.get_dummies(df2['race'])\n",
    "df2 = pd.concat([df2,age_group_category,gender,resident_status,race],axis = 1)\n"
   ]
  },
  {
   "cell_type": "markdown",
   "metadata": {},
   "source": [
    "## Define bill amount as Target variable and define feature variables."
   ]
  },
  {
   "cell_type": "code",
   "execution_count": 7,
   "metadata": {
    "collapsed": false
   },
   "outputs": [],
   "source": [
    "Y_train = np.array(df2['amount'])\n",
    "X_train = (df2.drop(['date_of_birth','age','date_of_admission',\n",
    "           'date_of_discharge','patient_id','amount',\n",
    "           'gender','race','resident_status'],axis = 1))\n",
    "all_feature_names = X_train.columns\n",
    "X_train = np.array(X_train)"
   ]
  },
  {
   "cell_type": "markdown",
   "metadata": {},
   "source": [
    "## Define Random Forest Regression model, Train model and evaluate the important features"
   ]
  },
  {
   "cell_type": "code",
   "execution_count": 8,
   "metadata": {
    "collapsed": false
   },
   "outputs": [
    {
     "name": "stdout",
     "output_type": "stream",
     "text": [
      "R^2: 0.887\n"
     ]
    }
   ],
   "source": [
    "#import model\n",
    "from sklearn.ensemble import RandomForestRegressor\n",
    "from sklearn import model_selection\n",
    "#instantiate the regressor and k-fold \n",
    "kfold = model_selection.KFold(n_splits=10, random_state=0)\n",
    "model = RandomForestRegressor(n_estimators = 1000)\n",
    "scoring = 'r2'\n",
    "#Train the model and evaluate R2 evaluation score\n",
    "results = model_selection.cross_val_score(model, X_train, Y_train, cv=kfold, scoring=scoring)\n",
    "model.fit(X_train, Y_train)\n",
    "print(\"R^2: {:.3f}\".format(results.mean()))"
   ]
  },
  {
   "cell_type": "code",
   "execution_count": 9,
   "metadata": {
    "collapsed": false
   },
   "outputs": [
    {
     "name": "stdout",
     "output_type": "stream",
     "text": [
      "Index(['age_group1', 'Others', 'medical_history_4', 'Male', 'Female',\n",
      "       'preop_medication_3', 'medical_history_5', 'medical_history_3',\n",
      "       'preop_medication_5', 'medical_history_2', 'preop_medication_1',\n",
      "       'age_group3', 'preop_medication_4', 'medical_history_7',\n",
      "       'preop_medication_2', 'preop_medication_6', 'days_in_hospital',\n",
      "       'Indian', 'lab_result_1', 'PR', 'symptom_1', 'age_group2',\n",
      "       'Singaporean', 'age_group4', 'height', 'lab_result_2', 'Chinese',\n",
      "       'lab_result_3', 'symptom_4', 'medical_history_6', 'symptom_2',\n",
      "       'symptom_3', 'weight', 'medical_history_1', 'age_group5', 'Malay',\n",
      "       'Foreigner', 'symptom_5'],\n",
      "      dtype='object')\n"
     ]
    }
   ],
   "source": [
    "#Important feature variables sorted as per descending order of the importance\n",
    "features = model.feature_importances_\n",
    "imp_features_index = sorted(range(len(features)), key=lambda k: features[k])\n",
    "print(all_feature_names[imp_features_index])"
   ]
  },
  {
   "cell_type": "code",
   "execution_count": 12,
   "metadata": {
    "collapsed": false
   },
   "outputs": [
    {
     "data": {
      "text/plain": [
       "0       Chinese\n",
       "1       Chinese\n",
       "2        Indian\n",
       "3       Chinese\n",
       "4         Malay\n",
       "5        Others\n",
       "6         Malay\n",
       "7       Chinese\n",
       "8         Malay\n",
       "9       Chinese\n",
       "10        Malay\n",
       "11        Malay\n",
       "12        Malay\n",
       "13       Indian\n",
       "14      Chinese\n",
       "15      Chinese\n",
       "16        Malay\n",
       "17        Malay\n",
       "18        Malay\n",
       "19      Chinese\n",
       "20      Chinese\n",
       "21        Malay\n",
       "22      Chinese\n",
       "23       Others\n",
       "24        Malay\n",
       "25      Chinese\n",
       "26        Malay\n",
       "27       Others\n",
       "28      Chinese\n",
       "29       Others\n",
       "         ...   \n",
       "3370    Chinese\n",
       "3371    Chinese\n",
       "3372     Others\n",
       "3373    Chinese\n",
       "3374      Malay\n",
       "3375    Chinese\n",
       "3376    Chinese\n",
       "3377     Others\n",
       "3378    Chinese\n",
       "3379     Others\n",
       "3380      Malay\n",
       "3381      Malay\n",
       "3382      Malay\n",
       "3383      Malay\n",
       "3384    Chinese\n",
       "3385    Chinese\n",
       "3386      Malay\n",
       "3387    Chinese\n",
       "3388      Malay\n",
       "3389    Chinese\n",
       "3390    Chinese\n",
       "3391    Chinese\n",
       "3392     Indian\n",
       "3393    Chinese\n",
       "3394    Chinese\n",
       "3395     Indian\n",
       "3396    Chinese\n",
       "3397    Chinese\n",
       "3398      Malay\n",
       "3399    Chinese\n",
       "Name: race, dtype: object"
      ]
     },
     "execution_count": 12,
     "metadata": {},
     "output_type": "execute_result"
    }
   ],
   "source": [
    "df2.race"
   ]
  },
  {
   "cell_type": "code",
   "execution_count": null,
   "metadata": {
    "collapsed": true
   },
   "outputs": [],
   "source": []
  }
 ],
 "metadata": {
  "anaconda-cloud": {},
  "kernelspec": {
   "display_name": "Python [default]",
   "language": "python",
   "name": "python3"
  },
  "language_info": {
   "codemirror_mode": {
    "name": "ipython",
    "version": 3
   },
   "file_extension": ".py",
   "mimetype": "text/x-python",
   "name": "python",
   "nbconvert_exporter": "python",
   "pygments_lexer": "ipython3",
   "version": "3.5.4"
  }
 },
 "nbformat": 4,
 "nbformat_minor": 1
}
